{
 "cells": [
  {
   "cell_type": "code",
   "execution_count": 431,
   "id": "outdoor-sussex",
   "metadata": {},
   "outputs": [],
   "source": [
    "import numpy as np\n",
    "from numpy import array \n",
    "eps = np.finfo(np.float64).eps"
   ]
  },
  {
   "cell_type": "code",
   "execution_count": 425,
   "id": "spiritual-professional",
   "metadata": {},
   "outputs": [],
   "source": [
    "inputs = array([[[[ 181., 180., 599., 427., -347., -835.], \n",
    "                [ 329., -493., 1006., -575.,  147., -685.],\n",
    "                [-571., -384., -539.,  818.,  955.,  564.],\n",
    "                [-629., -546., -325.,  282.,  330., -641.],\n",
    "                [ 388., -924., -191., 1021., -930.,  478.],\n",
    "                [-281., -292., -939.,  738.,  356., -164.]]]])"
   ]
  },
  {
   "cell_type": "code",
   "execution_count": 426,
   "id": "ranging-transmission",
   "metadata": {},
   "outputs": [
    {
     "data": {
      "text/plain": [
       "(1, 1, 6, 6)"
      ]
     },
     "execution_count": 426,
     "metadata": {},
     "output_type": "execute_result"
    }
   ],
   "source": [
    "inputs.shape"
   ]
  },
  {
   "cell_type": "code",
   "execution_count": 573,
   "id": "great-milan",
   "metadata": {},
   "outputs": [],
   "source": [
    "gamma=array([1008.])\n",
    "beta=array([641.])\n",
    "running_mean=array([269.93])\n",
    "running_var=array([1133.14])\n",
    "inputs=array([[[[-315.]]], [[[ 247.]]]])\n",
    "grad_outputs=array([[[[122.]]], [[[256.]]]])\n",
    "\n",
    "forward_normalized_inputs = array([[[[-1.]]], [[[ 1.]]]])\n",
    "# forward_normalized_inputs = inputs\n",
    "forward_inverse_std = array([0.00355872])"
   ]
  },
  {
   "cell_type": "code",
   "execution_count": 574,
   "id": "innovative-challenge",
   "metadata": {},
   "outputs": [],
   "source": [
    "n, d, h, w = grad_outputs.shape\n",
    "        \n",
    "dl_dn = grad_outputs * gamma[:, None, None, None]\n",
    "grad = w * h * dl_dn - np.sum(dl_dn, axis = (-2, -1), keepdims = True) - forward_normalized_inputs * np.sum(dl_dn * forward_normalized_inputs, axis = (-2, -1), keepdims = True)\n",
    "grad = grad * forward_inverse_std[:, None, None, None] / w / h"
   ]
  },
  {
   "cell_type": "code",
   "execution_count": 575,
   "id": "strange-buffalo",
   "metadata": {},
   "outputs": [
    {
     "data": {
      "text/plain": [
       "array([[[[-437.63715072]]],\n",
       "\n",
       "\n",
       "       [[[-918.32057856]]]])"
      ]
     },
     "execution_count": 575,
     "metadata": {},
     "output_type": "execute_result"
    }
   ],
   "source": [
    "grad"
   ]
  },
  {
   "cell_type": "code",
   "execution_count": 508,
   "id": "velvet-detection",
   "metadata": {},
   "outputs": [
    {
     "data": {
      "text/plain": [
       "(2, 1, 2, 1)"
      ]
     },
     "execution_count": 508,
     "metadata": {},
     "output_type": "execute_result"
    }
   ],
   "source": [
    "grad.shape"
   ]
  },
  {
   "cell_type": "code",
   "execution_count": 613,
   "id": "imperial-injury",
   "metadata": {},
   "outputs": [
    {
     "data": {
      "text/plain": [
       "array([[[[381024.]]]])"
      ]
     },
     "execution_count": 613,
     "metadata": {},
     "output_type": "execute_result"
    }
   ],
   "source": [
    "np.sum(dl_dn, axis = 0, keepdims = True)"
   ]
  },
  {
   "cell_type": "code",
   "execution_count": 624,
   "id": "foreign-entity",
   "metadata": {},
   "outputs": [],
   "source": [
    "grad = n * dl_dn - np.sum(dl_dn, axis = 0, keepdims = True) - forward_normalized_inputs * np.sum(dl_dn * forward_normalized_inputs, axis = 0, keepdims = True)"
   ]
  },
  {
   "cell_type": "code",
   "execution_count": 625,
   "id": "loved-barbados",
   "metadata": {},
   "outputs": [
    {
     "data": {
      "text/plain": [
       "array([[[[0.]]],\n",
       "\n",
       "\n",
       "       [[[0.]]]])"
      ]
     },
     "execution_count": 625,
     "metadata": {},
     "output_type": "execute_result"
    }
   ],
   "source": [
    "grad"
   ]
  },
  {
   "cell_type": "code",
   "execution_count": 616,
   "id": "preceding-wellington",
   "metadata": {},
   "outputs": [],
   "source": [
    "grad = w * h * dl_dn"
   ]
  },
  {
   "cell_type": "code",
   "execution_count": 617,
   "id": "herbal-welding",
   "metadata": {},
   "outputs": [
    {
     "data": {
      "text/plain": [
       "array([[[[122976.]]],\n",
       "\n",
       "\n",
       "       [[[258048.]]]])"
      ]
     },
     "execution_count": 617,
     "metadata": {},
     "output_type": "execute_result"
    }
   ],
   "source": [
    "grad"
   ]
  },
  {
   "cell_type": "code",
   "execution_count": 618,
   "id": "conventional-decision",
   "metadata": {},
   "outputs": [],
   "source": [
    "grad = np.sum(dl_dn, axis = (-2, -1))[:, None, None]"
   ]
  },
  {
   "cell_type": "code",
   "execution_count": 619,
   "id": "former-conversation",
   "metadata": {},
   "outputs": [
    {
     "data": {
      "text/plain": [
       "array([[[[122976.]]],\n",
       "\n",
       "\n",
       "       [[[258048.]]]])"
      ]
     },
     "execution_count": 619,
     "metadata": {},
     "output_type": "execute_result"
    }
   ],
   "source": [
    "grad"
   ]
  },
  {
   "cell_type": "code",
   "execution_count": 620,
   "id": "alone-wheel",
   "metadata": {},
   "outputs": [],
   "source": [
    "grad = forward_normalized_inputs * np.sum(dl_dn * forward_normalized_inputs, axis = (-2, -1))[:, None, None]"
   ]
  },
  {
   "cell_type": "code",
   "execution_count": 621,
   "id": "yellow-morrison",
   "metadata": {},
   "outputs": [
    {
     "data": {
      "text/plain": [
       "array([[[[122976.]]],\n",
       "\n",
       "\n",
       "       [[[258048.]]]])"
      ]
     },
     "execution_count": 621,
     "metadata": {},
     "output_type": "execute_result"
    }
   ],
   "source": [
    "grad"
   ]
  }
 ],
 "metadata": {
  "kernelspec": {
   "display_name": "python3.9",
   "language": "python",
   "name": "python3.9"
  },
  "language_info": {
   "codemirror_mode": {
    "name": "ipython",
    "version": 3
   },
   "file_extension": ".py",
   "mimetype": "text/x-python",
   "name": "python",
   "nbconvert_exporter": "python",
   "pygments_lexer": "ipython3",
   "version": "3.9.1"
  }
 },
 "nbformat": 4,
 "nbformat_minor": 5
}
